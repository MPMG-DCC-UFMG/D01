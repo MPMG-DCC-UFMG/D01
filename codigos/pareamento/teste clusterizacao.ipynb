{
 "cells": [
  {
   "cell_type": "markdown",
   "metadata": {},
   "source": [
    "# Bibliotecas"
   ]
  },
  {
   "cell_type": "code",
   "execution_count": null,
   "metadata": {
    "ExecuteTime": {
     "start_time": "2020-11-27T01:41:10.177Z"
    }
   },
   "outputs": [],
   "source": [
    "import dedupe\n",
    "\n",
    "import pandas as pd\n",
    "import numpy as np\n",
    "\n",
    "from pathlib import Path\n",
    "from pyhive import hive"
   ]
  },
  {
   "cell_type": "code",
   "execution_count": null,
   "metadata": {
    "ExecuteTime": {
     "start_time": "2020-11-27T01:41:33.266Z"
    }
   },
   "outputs": [],
   "source": [
    "# Configs HIVE\n",
    "configuracao_banco = {\n",
    "    'host': '10.21.0.70',\n",
    "    'port': '10500',\n",
    "    'username': 'trilhasgsi',\n",
    "    'password': 'UFMGtrilhas2020',\n",
    "    'auth': 'CUSTOM',\n",
    "    'database': 'mdm_v2'\n",
    "}\n",
    "# Schema=(par1, par2, score)\n",
    "tabela_scores = 'mdm_v2.tmp_scores_exato_26_11_2020'\n",
    "\n",
    "\n",
    "# Configs modelo\n",
    "arquivo_modelo = Path(\"../scripts/modelo exato\")\n",
    "num_cores = 30"
   ]
  },
  {
   "cell_type": "markdown",
   "metadata": {},
   "source": [
    "# Carregando o Modelo Treinado"
   ]
  },
  {
   "cell_type": "code",
   "execution_count": null,
   "metadata": {
    "ExecuteTime": {
     "start_time": "2020-11-27T01:41:33.669Z"
    }
   },
   "outputs": [],
   "source": [
    "# Modelo dedupe\n",
    "with arquivo_modelo.open(mode=\"rb\") as fp:\n",
    "    modelo_dedupe = dedupe.StaticDedupe(settings_file=fp, num_cores=num_cores)"
   ]
  },
  {
   "cell_type": "markdown",
   "metadata": {},
   "source": [
    "# Pegando Dados do HIVE"
   ]
  },
  {
   "cell_type": "code",
   "execution_count": null,
   "metadata": {
    "ExecuteTime": {
     "start_time": "2020-11-27T01:41:34.331Z"
    }
   },
   "outputs": [],
   "source": [
    "# Configuracao HIVE\n"
   ]
  },
  {
   "cell_type": "code",
   "execution_count": null,
   "metadata": {
    "ExecuteTime": {
     "start_time": "2020-11-27T01:41:34.529Z"
    }
   },
   "outputs": [],
   "source": [
    "# Configuracao selecao dados\n",
    "atributos = ['par_1', 'par_2', 'score']\n",
    "\n",
    "atributos_select = ', '.join([f'{x}' for x in atributos])\n",
    "query = f\"\"\"\n",
    "SELECT {atributos_select}  \n",
    "FROM {tabela_scores}\n",
    "\"\"\"\n",
    "print('QUERY:')\n",
    "print(query)"
   ]
  },
  {
   "cell_type": "code",
   "execution_count": null,
   "metadata": {
    "ExecuteTime": {
     "start_time": "2020-11-27T01:41:34.915Z"
    }
   },
   "outputs": [],
   "source": [
    "# Lendo dados do HIVE\n",
    "read_con = hive.connect(**configuracao_banco)\n",
    "\n",
    "dados_scores = []\n",
    "with read_con.cursor() as read_cur:\n",
    "    read_cur.execute(query)\n",
    "\n",
    "    for tup in read_cur:\n",
    "        tup_dict = dict(zip(atributos, tup))\n",
    "\n",
    "        pares = (tup_dict['par_1'], tup_dict['par_2'])\n",
    "        score = tup_dict['score']\n",
    "#         pares = np.array((tup_dict['par_1'], tup_dict['par_2']))\n",
    "#         score = np.float32(tup_dict['score'])\n",
    "        dados_scores.append((pares, score))\n",
    "\n",
    "# Formato de input para o Dedupe\n",
    "dados_scores = np.array(dados_scores, dtype=[('pairs', '<i8', (2,)), ('score', '<f4')])\n",
    "\n",
    "# Fecha conexao\n",
    "read_con.close()"
   ]
  },
  {
   "cell_type": "markdown",
   "metadata": {},
   "source": [
    "Formato final dos scores:"
   ]
  },
  {
   "cell_type": "code",
   "execution_count": null,
   "metadata": {
    "ExecuteTime": {
     "start_time": "2020-11-27T01:41:35.656Z"
    }
   },
   "outputs": [],
   "source": [
    "dados_scores"
   ]
  },
  {
   "cell_type": "markdown",
   "metadata": {},
   "source": [
    "# Clusterização"
   ]
  },
  {
   "cell_type": "code",
   "execution_count": null,
   "metadata": {
    "ExecuteTime": {
     "start_time": "2020-11-27T01:41:36.217Z"
    }
   },
   "outputs": [],
   "source": [
    "grupos = modelo_dedupe.cluster(dados_scores, threshold=0)\n",
    "list(grupos)"
   ]
  },
  {
   "cell_type": "code",
   "execution_count": null,
   "metadata": {},
   "outputs": [],
   "source": []
  }
 ],
 "metadata": {
  "kernelspec": {
   "display_name": "Python 3",
   "language": "python",
   "name": "python3"
  },
  "language_info": {
   "codemirror_mode": {
    "name": "ipython",
    "version": 3
   },
   "file_extension": ".py",
   "mimetype": "text/x-python",
   "name": "python",
   "nbconvert_exporter": "python",
   "pygments_lexer": "ipython3",
   "version": "3.8.2"
  }
 },
 "nbformat": 4,
 "nbformat_minor": 4
}
