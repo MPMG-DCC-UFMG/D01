{
 "cells": [
  {
   "cell_type": "code",
   "execution_count": null,
   "metadata": {
    "ExecuteTime": {
     "end_time": "2020-12-10T01:12:39.862266Z",
     "start_time": "2020-12-10T01:12:37.084961Z"
    },
    "hide_input": false,
    "scrolled": true
   },
   "outputs": [],
   "source": [
    "!pip install ."
   ]
  },
  {
   "cell_type": "markdown",
   "metadata": {},
   "source": [
    "# Configuração"
   ]
  },
  {
   "cell_type": "code",
   "execution_count": 1,
   "metadata": {
    "ExecuteTime": {
     "end_time": "2020-12-10T11:28:00.638161Z",
     "start_time": "2020-12-10T11:28:00.200532Z"
    }
   },
   "outputs": [],
   "source": [
    "import dedupe\n",
    "import numpy as np\n",
    "import pandas as pd\n",
    "\n",
    "from pathlib import Path\n",
    "from tqdm.auto import tqdm\n",
    "from casamento_entidade.diversos import carregar_json, criar_dir\n",
    "from casamento_entidade.entrada import df_para_dict\n",
    "from casamento_entidade.modelos_ce import ModeloDedupe\n",
    "\n",
    "pd.options.mode.chained_assignment = None"
   ]
  },
  {
   "cell_type": "code",
   "execution_count": 2,
   "metadata": {
    "ExecuteTime": {
     "end_time": "2020-12-10T11:28:00.642922Z",
     "start_time": "2020-12-10T11:28:00.639489Z"
    }
   },
   "outputs": [],
   "source": [
    "# Logs\n",
    "arquivo_logging = 'saidas/execucao.log'\n",
    "log_level = 'INFO'\n",
    "\n",
    "import logging\n",
    "logging.getLogger('dedupe').setLevel(logging.CRITICAL)\n",
    "logging.getLogger('casamento_entidade').setLevel(logging.CRITICAL)\n",
    "\n",
    "for handler in logging.root.handlers[:]:\n",
    "    logging.root.removeHandler(handler)\n",
    "logging.basicConfig(filename=arquivo_logging, level=log_level, filemode='w+')"
   ]
  },
  {
   "cell_type": "code",
   "execution_count": 3,
   "metadata": {
    "ExecuteTime": {
     "end_time": "2020-12-10T11:28:00.659610Z",
     "start_time": "2020-12-10T11:28:00.643887Z"
    },
    "code_folding": []
   },
   "outputs": [],
   "source": [
    "# Arquivos de entrada/saida\n",
    "arquivo_modelo_treino = Path(f'saidas/arquivo_treinamento.json')\n",
    "arquivo_modelo_configuracoes = Path(f'saidas/arquivo_configuracao')\n",
    "\n",
    "arquivo_dados_treino = 'dados_treino/dados_pessoa_treino_amostra.csv'\n",
    "\n",
    "# Configuracoes dedupe\n",
    "casamento_selecionado = 'proba'\n",
    "\n",
    "tipos_casamento = {'exato': 'Exact', 'proba': 'String'}\n",
    "campos_casamento = [\n",
    "    {\n",
    "        'field': 'num_cpf_cnpj',\n",
    "        'type': tipos_casamento[casamento_selecionado],\n",
    "        'has missing': True\n",
    "    },\n",
    "    {\n",
    "        'field': 'nome_pessoa',\n",
    "        'type': tipos_casamento[casamento_selecionado],\n",
    "        'has missing': True\n",
    "    },\n",
    "    {\n",
    "        'field': 'num_titulo_eleitor',\n",
    "        'type': tipos_casamento[casamento_selecionado],\n",
    "        'has missing': True\n",
    "    },\n",
    "    {\n",
    "        'field': 'num_nis_nit',\n",
    "        'type': tipos_casamento[casamento_selecionado],\n",
    "        'has missing': True\n",
    "    },\n",
    "    {\n",
    "        'field': 'num_cliente_cemig',\n",
    "        'type': tipos_casamento[casamento_selecionado],\n",
    "        'has missing': True\n",
    "    },\n",
    "    {\n",
    "        'field': 'nome_pai',\n",
    "        'type': tipos_casamento[casamento_selecionado],\n",
    "        'has missing': True\n",
    "    },\n",
    "    {\n",
    "        'field': 'nome_mae',\n",
    "        'type': tipos_casamento[casamento_selecionado],\n",
    "        'has missing': True\n",
    "    },\n",
    "    {\n",
    "        'field': 'data_nasc',\n",
    "        'type': tipos_casamento[casamento_selecionado],\n",
    "        'has missing': True\n",
    "    }\n",
    "]\n",
    "\n",
    "num_cores = 15\n",
    "forcar_treinamento = False\n",
    "sample_size = 15_000\n",
    "blocked_proportion = 0.9\n",
    "original_length = None"
   ]
  },
  {
   "cell_type": "markdown",
   "metadata": {},
   "source": [
    "# Treinamento"
   ]
  },
  {
   "cell_type": "markdown",
   "metadata": {},
   "source": [
    "Treinamento do Dedupe para **Casamento de Entidades** utilizando dados de treino."
   ]
  },
  {
   "cell_type": "markdown",
   "metadata": {},
   "source": [
    "## Entrada do Algoritmo"
   ]
  },
  {
   "cell_type": "code",
   "execution_count": 4,
   "metadata": {
    "ExecuteTime": {
     "end_time": "2020-12-10T11:28:00.860702Z",
     "start_time": "2020-12-10T11:28:00.661050Z"
    }
   },
   "outputs": [
    {
     "data": {
      "application/vnd.jupyter.widget-view+json": {
       "model_id": "91fce2f19e6b4f148310547158aae923",
       "version_major": 2,
       "version_minor": 0
      },
      "text/plain": [
       "HBox(children=(FloatProgress(value=0.0, max=8.0), HTML(value='')))"
      ]
     },
     "metadata": {},
     "output_type": "display_data"
    },
    {
     "name": "stdout",
     "output_type": "stream",
     "text": [
      "\n"
     ]
    }
   ],
   "source": [
    "# Leitura\n",
    "colunas_treino = ['uuid_pessoa', 'num_cpf_cnpj', 'nome_pessoa', 'data_nasc', \n",
    "                  'nome_mae', 'nome_pai', 'nit', 'nis', 'num_titulo_eleitor', 'num_cliente_cemig']\n",
    "colunas_idx = [0, 2, 3, 4, 5, 6, 7, 8, 9, 10]  # Colunas para ler do csv\n",
    "df_treino = pd.read_csv(arquivo_dados_treino, low_memory=False, sep='#', header=None, usecols=colunas_idx)\n",
    "df_treino.columns = colunas_treino\n",
    "\n",
    "# Coluna Nis/Nit\n",
    "df_treino['num_nis_nit'] = df_treino['nis'].combine_first(df_treino['nit'])\n",
    "df_treino.drop(['nis', 'nit'], inplace=True, axis=1)\n",
    "\n",
    "# Removendo uuid duplicados\n",
    "df_treino.sort_values(by='num_cpf_cnpj', inplace=True, ignore_index=True)\n",
    "df_treino.drop_duplicates(subset=['uuid_pessoa'], keep='first', inplace=True, \n",
    "                          ignore_index=True)\n",
    "\n",
    "# UUID como indice\n",
    "df_treino.set_index('uuid_pessoa', inplace=True)\n",
    "\n",
    "# Conversao para str se probabilistico\n",
    "if casamento_selecionado == 'proba': \n",
    "    for c in tqdm(df_treino.columns):\n",
    "        df_treino = df_treino.astype(str)\n",
    "\n",
    "# Entrada para dedupe\n",
    "df_treino = df_treino.where(pd.notnull(df_treino), None)  # dedupe soh aceita None\n",
    "df_treino.reset_index(drop=True, inplace=True)\n",
    "dados_dedupe_treino = df_treino.to_dict(orient='index')  # dedupe soh aceita dict"
   ]
  },
  {
   "cell_type": "markdown",
   "metadata": {},
   "source": [
    "## Treinamento com Aprendizado Ativo"
   ]
  },
  {
   "cell_type": "code",
   "execution_count": null,
   "metadata": {
    "ExecuteTime": {
     "start_time": "2020-12-10T11:26:58.311Z"
    }
   },
   "outputs": [
    {
     "name": "stdout",
     "output_type": "stream",
     "text": [
      "Preparando o treinamento do modelo...\n",
      "Iniciando o treinamento com Active Learning...\n"
     ]
    },
    {
     "name": "stderr",
     "output_type": "stream",
     "text": [
      "num_cpf_cnpj : nan\n",
      "nome_pessoa : IGNORADO\n",
      "num_titulo_eleitor : nan\n",
      "num_nis_nit : nan\n",
      "num_cliente_cemig : nan\n",
      "nome_pai : nan\n",
      "nome_mae : DANIELY ESTEVARENGO DE M NEVES\n",
      "data_nasc : 30/11/0002\n",
      "\n",
      "num_cpf_cnpj : nan\n",
      "nome_pessoa : IGNORADO\n",
      "num_titulo_eleitor : nan\n",
      "num_nis_nit : nan\n",
      "num_cliente_cemig : nan\n",
      "nome_pai : nan\n",
      "nome_mae : nan\n",
      "data_nasc : 30/04/2015\n",
      "\n",
      "0/10 positive, 0/10 negative\n",
      "Do these records refer to the same thing?\n",
      "(y)es / (n)o / (u)nsure / (f)inished\n"
     ]
    },
    {
     "name": "stdout",
     "output_type": "stream",
     "text": [
      "y\n"
     ]
    },
    {
     "name": "stderr",
     "output_type": "stream",
     "text": [
      "num_cpf_cnpj : nan\n",
      "nome_pessoa : OBITO FETAL\n",
      "num_titulo_eleitor : nan\n",
      "num_nis_nit : nan\n",
      "num_cliente_cemig : nan\n",
      "nome_pai : nan\n",
      "nome_mae : TAYANE LAISA SILVA MEDEIROS\n",
      "data_nasc : 30/11/0002\n",
      "\n",
      "num_cpf_cnpj : nan\n",
      "nome_pessoa : OBITO FETAL\n",
      "num_titulo_eleitor : nan\n",
      "num_nis_nit : nan\n",
      "num_cliente_cemig : nan\n",
      "nome_pai : nan\n",
      "nome_mae : ANA CLAUDIA RIBEIRO SILVA\n",
      "data_nasc : 30/11/0002\n",
      "\n",
      "1/10 positive, 0/10 negative\n",
      "Do these records refer to the same thing?\n",
      "(y)es / (n)o / (u)nsure / (f)inished / (p)revious\n"
     ]
    },
    {
     "name": "stdout",
     "output_type": "stream",
     "text": [
      "n\n"
     ]
    },
    {
     "name": "stderr",
     "output_type": "stream",
     "text": [
      "num_cpf_cnpj : nan\n",
      "nome_pessoa : JOSE RODRIGUES DE SOUSA\n",
      "num_titulo_eleitor : nan\n",
      "num_nis_nit : nan\n",
      "num_cliente_cemig : nan\n",
      "nome_pai : nan\n",
      "nome_mae : ANA MARIA DE JESUS\n",
      "data_nasc : 24/10/1925\n",
      "\n",
      "num_cpf_cnpj : nan\n",
      "nome_pessoa : JOSE RODRIGUES DE SOUZA\n",
      "num_titulo_eleitor : 7941730213.0\n",
      "num_nis_nit : nan\n",
      "num_cliente_cemig : nan\n",
      "nome_pai : PAULO RODRIGUES SOUZA\n",
      "nome_mae : HORIZA FRANCISCA SILVA\n",
      "data_nasc : 01/06/1933\n",
      "\n",
      "1/10 positive, 1/10 negative\n",
      "Do these records refer to the same thing?\n",
      "(y)es / (n)o / (u)nsure / (f)inished / (p)revious\n"
     ]
    },
    {
     "name": "stdout",
     "output_type": "stream",
     "text": [
      "y\n"
     ]
    },
    {
     "name": "stderr",
     "output_type": "stream",
     "text": [
      "num_cpf_cnpj : nan\n",
      "nome_pessoa : RICARDO FERREIRA DE SOUSA\n",
      "num_titulo_eleitor : nan\n",
      "num_nis_nit : nan\n",
      "num_cliente_cemig : nan\n",
      "nome_pai : nan\n",
      "nome_mae : MARIA FERREIRA DE SOUSA\n",
      "data_nasc : 20/04/1998\n",
      "\n",
      "num_cpf_cnpj : nan\n",
      "nome_pessoa : RICARDO FERREIRA DE SOUZA\n",
      "num_titulo_eleitor : nan\n",
      "num_nis_nit : nan\n",
      "num_cliente_cemig : nan\n",
      "nome_pai : nan\n",
      "nome_mae : LAZARA FERREIRA DA S DE SOUZA\n",
      "data_nasc : 07/01/1987\n",
      "\n",
      "2/10 positive, 1/10 negative\n",
      "Do these records refer to the same thing?\n",
      "(y)es / (n)o / (u)nsure / (f)inished / (p)revious\n"
     ]
    },
    {
     "name": "stdout",
     "output_type": "stream",
     "text": [
      "y\n"
     ]
    },
    {
     "name": "stderr",
     "output_type": "stream",
     "text": [
      "num_cpf_cnpj : nan\n",
      "nome_pessoa : BARBARA MARIA DA CONSOLACAO VIEIRA\n",
      "num_titulo_eleitor : 63250870205.0\n",
      "num_nis_nit : nan\n",
      "num_cliente_cemig : nan\n",
      "nome_pai : JOSE LOURENCO VIEIRA\n",
      "nome_mae : MARIA LUCIA DA SILVA\n",
      "data_nasc : 18/06/1961\n",
      "\n",
      "num_cpf_cnpj : nan\n",
      "nome_pessoa : SARA DA SILVA VIEIRA\n",
      "num_titulo_eleitor : nan\n",
      "num_nis_nit : 23743911740.0\n",
      "num_cliente_cemig : nan\n",
      "nome_pai : NILTON GOMES VIEIRA\n",
      "nome_mae : MARIA LUCIA PEREIRA DA SILVA\n",
      "data_nasc : 06/03/2004\n",
      "\n",
      "3/10 positive, 1/10 negative\n",
      "Do these records refer to the same thing?\n",
      "(y)es / (n)o / (u)nsure / (f)inished / (p)revious\n"
     ]
    },
    {
     "name": "stdout",
     "output_type": "stream",
     "text": [
      "n\n"
     ]
    },
    {
     "name": "stderr",
     "output_type": "stream",
     "text": [
      "num_cpf_cnpj : nan\n",
      "nome_pessoa : KAYLLA CRISTINA RAMOS SANTOS DE PINHO\n",
      "num_titulo_eleitor : nan\n",
      "num_nis_nit : 16335636868.0\n",
      "num_cliente_cemig : nan\n",
      "nome_pai : DANILO SANTOS DE PINHO\n",
      "nome_mae : CRISTINA RAMOS DOS SANTOS\n",
      "data_nasc : 21/03/2009\n",
      "\n",
      "num_cpf_cnpj : nan\n",
      "nome_pessoa : TEREZA IDALINA DA COSTA\n",
      "num_titulo_eleitor : 78984230281.0\n",
      "num_nis_nit : nan\n",
      "num_cliente_cemig : nan\n",
      "nome_pai : JOSE CANUTO DOS SANTOS\n",
      "nome_mae : JUSTINA GOMES DOS SANTOS\n",
      "data_nasc : 31/01/1933\n",
      "\n",
      "3/10 positive, 2/10 negative\n",
      "Do these records refer to the same thing?\n",
      "(y)es / (n)o / (u)nsure / (f)inished / (p)revious\n"
     ]
    },
    {
     "name": "stdout",
     "output_type": "stream",
     "text": [
      "n\n"
     ]
    },
    {
     "name": "stderr",
     "output_type": "stream",
     "text": [
      "num_cpf_cnpj : 81777957400\n",
      "nome_pessoa : JOSEFA MARIA DA CONCEICAO\n",
      "num_titulo_eleitor : nan\n",
      "num_nis_nit : nan\n",
      "num_cliente_cemig : nan\n",
      "nome_pai : nan\n",
      "nome_mae : OTILIA MARIA DA CONCEICAO\n",
      "data_nasc : nan\n",
      "\n",
      "num_cpf_cnpj : nan\n",
      "nome_pessoa : JOSEFA MARIA DA CONCEICAO\n",
      "num_titulo_eleitor : nan\n",
      "num_nis_nit : nan\n",
      "num_cliente_cemig : nan\n",
      "nome_pai : nan\n",
      "nome_mae : ROSA MARIA DA CONCEICAO\n",
      "data_nasc : 03/12/1924\n",
      "\n",
      "3/10 positive, 3/10 negative\n",
      "Do these records refer to the same thing?\n",
      "(y)es / (n)o / (u)nsure / (f)inished / (p)revious\n"
     ]
    },
    {
     "name": "stdout",
     "output_type": "stream",
     "text": [
      "y\n"
     ]
    },
    {
     "name": "stderr",
     "output_type": "stream",
     "text": [
      "num_cpf_cnpj : 95261494400\n",
      "nome_pessoa : CICERA MARIA DOS SANTOS\n",
      "num_titulo_eleitor : nan\n",
      "num_nis_nit : nan\n",
      "num_cliente_cemig : nan\n",
      "nome_pai : nan\n",
      "nome_mae : MARIA JOVINA DA CONCEICAO\n",
      "data_nasc : 06/03/1931\n",
      "\n",
      "num_cpf_cnpj : nan\n",
      "nome_pessoa : CICERA MARIA DOS SANTOS\n",
      "num_titulo_eleitor : nan\n",
      "num_nis_nit : nan\n",
      "num_cliente_cemig : nan\n",
      "nome_pai : nan\n",
      "nome_mae : nan\n",
      "data_nasc : nan\n",
      "\n",
      "4/10 positive, 3/10 negative\n",
      "Do these records refer to the same thing?\n",
      "(y)es / (n)o / (u)nsure / (f)inished / (p)revious\n"
     ]
    },
    {
     "name": "stdout",
     "output_type": "stream",
     "text": [
      "n\n"
     ]
    },
    {
     "name": "stderr",
     "output_type": "stream",
     "text": [
      "num_cpf_cnpj : 60191958301\n",
      "nome_pessoa : JOSEFA MARIA DA CONCEICAO\n",
      "num_titulo_eleitor : 11737711198.0\n",
      "num_nis_nit : 16289762673.0\n",
      "num_cliente_cemig : nan\n",
      "nome_pai : nan\n",
      "nome_mae : MARIA DA CONCEICAO\n",
      "data_nasc : 15/09/1962\n",
      "\n",
      "num_cpf_cnpj : nan\n",
      "nome_pessoa : JOSEFA MARIA DA CONCEICAO\n",
      "num_titulo_eleitor : nan\n",
      "num_nis_nit : nan\n",
      "num_cliente_cemig : nan\n",
      "nome_pai : nan\n",
      "nome_mae : ROSA MARIA DA CONCEICAO\n",
      "data_nasc : 03/12/1924\n",
      "\n",
      "4/10 positive, 4/10 negative\n",
      "Do these records refer to the same thing?\n",
      "(y)es / (n)o / (u)nsure / (f)inished / (p)revious\n"
     ]
    },
    {
     "name": "stdout",
     "output_type": "stream",
     "text": [
      "f\n"
     ]
    },
    {
     "name": "stderr",
     "output_type": "stream",
     "text": [
      "Finished labeling\n",
      "/dados01/workspace/ufmg.m05dcc/anaconda3/envs/mpmg05_env/lib/python3.8/site-packages/rlr/crossvalidation.py:117: RuntimeWarning: invalid value encountered in double_scalars\n",
      "  matthews_cc = ((true_dupes * true_distinct\n"
     ]
    }
   ],
   "source": [
    "# Configurações Dedupe\n",
    "if (arquivo_modelo_configuracoes.exists()) and (not forcar_treinamento):\n",
    "    print(f'Carregando o modelo a partir do arquivo de configuração {arquivo_modelo_configuracoes}')\n",
    "    with arquivo_modelo_configuracoes.open(mode='rb') as fp:\n",
    "        modelo_ce = dedupe.StaticDedupe(settings_file=fp, num_cores=num_cores)\n",
    "else:\n",
    "    # Instanciação\n",
    "    modelo_ce = dedupe.Dedupe(variable_definition=campos_casamento, num_cores=num_cores)\n",
    "\n",
    "    # Preparando treino\n",
    "    print('Preparando o treinamento do modelo...')\n",
    "    if arquivo_modelo_treino.exists():\n",
    "        print(f'\\tLendo exemplos do arquivo de treinamento ({arquivo_modelo_treino}).')\n",
    "        with arquivo_modelo_treino.open() as fp:\n",
    "            modelo_ce.prepare_training(data=dados_dedupe_treino, training_file=fp,\n",
    "                                       sample_size=sample_size, blocked_proportion=blocked_proportion,\n",
    "                                       original_length=original_length)\n",
    "    else:\n",
    "        modelo_ce.prepare_training(data=dados_dedupe_treino, training_file=None,\n",
    "                                   sample_size=sample_size, blocked_proportion=blocked_proportion,\n",
    "                                   original_length=original_length)\n",
    "\n",
    "    # Active Learning\n",
    "    print('Iniciando o treinamento com Active Learning...')\n",
    "    dedupe.console_label(modelo_ce)\n",
    "    modelo_ce.train()\n",
    "\n",
    "    # Salva configuração e exemplos de treino\n",
    "    print('Salvando os arquivos de treino e configuração...')\n",
    "    with arquivo_modelo_treino.open(mode='w+') as fp:\n",
    "        modelo_ce.write_training(file_obj=fp)\n",
    "\n",
    "    with arquivo_config.open(mode='wb+') as fp:\n",
    "        modelo_ce.write_settings(file_obj=fp)\n",
    "\n",
    "    # Liberando memória\n",
    "    modelo_ce.cleanup_training()"
   ]
  }
 ],
 "metadata": {
  "kernelspec": {
   "display_name": "Python 3",
   "language": "python",
   "name": "python3"
  }
 },
 "nbformat": 4,
 "nbformat_minor": 4
}
