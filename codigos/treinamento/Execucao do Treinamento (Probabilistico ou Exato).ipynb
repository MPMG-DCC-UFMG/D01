{
 "cells": [
  {
   "cell_type": "code",
   "execution_count": 1,
   "metadata": {
    "ExecuteTime": {
     "end_time": "2020-12-10T22:53:45.734429Z",
     "start_time": "2020-12-10T22:53:43.774513Z"
    },
    "hide_input": false,
    "scrolled": true
   },
   "outputs": [
    {
     "name": "stdout",
     "output_type": "stream",
     "text": [
      "Processing /dados01/workspace/ufmg.m05dcc/scripts/M05/codigos/treinamento\n",
      "\u001b[31mERROR: Could not install packages due to an EnvironmentError: [('/dados01/workspace/ufmg.m05dcc/scripts/M05/codigos/treinamento/dados_treino/dados_pessoa_treino.csv', '/tmp/pip-req-build-tuipn13z/dados_treino/dados_pessoa_treino.csv', \"[Errno 28] Não há espaço disponível no dispositivo: '/dados01/workspace/ufmg.m05dcc/scripts/M05/codigos/treinamento/dados_treino/dados_pessoa_treino.csv' -> '/tmp/pip-req-build-tuipn13z/dados_treino/dados_pessoa_treino.csv'\")]\n",
      "\u001b[0m\n",
      "\u001b[33mWARNING: You are using pip version 20.2.4; however, version 20.3.1 is available.\n",
      "You should consider upgrading via the '/dados01/workspace/ufmg.m05dcc/py38/bin/python3.8 -m pip install --upgrade pip' command.\u001b[0m\n"
     ]
    }
   ],
   "source": [
    "!pip install ."
   ]
  },
  {
   "cell_type": "markdown",
   "metadata": {},
   "source": [
    "# Configuração"
   ]
  },
  {
   "cell_type": "code",
   "execution_count": 2,
   "metadata": {
    "ExecuteTime": {
     "end_time": "2020-12-10T22:53:46.188880Z",
     "start_time": "2020-12-10T22:53:45.736210Z"
    }
   },
   "outputs": [],
   "source": [
    "import dedupe\n",
    "import numpy as np\n",
    "import pandas as pd\n",
    "\n",
    "from pathlib import Path\n",
    "from tqdm.auto import tqdm\n",
    "from casamento_entidade.diversos import carregar_json, criar_dir\n",
    "from casamento_entidade.entrada import df_para_dict\n",
    "from casamento_entidade.modelos_ce import ModeloDedupe\n",
    "\n",
    "pd.options.mode.chained_assignment = None"
   ]
  },
  {
   "cell_type": "code",
   "execution_count": 3,
   "metadata": {
    "ExecuteTime": {
     "end_time": "2020-12-10T22:53:46.193787Z",
     "start_time": "2020-12-10T22:53:46.190350Z"
    }
   },
   "outputs": [],
   "source": [
    "# Logs\n",
    "arquivo_logging = 'saidas/execucao.log'\n",
    "log_level = 'INFO'\n",
    "\n",
    "import logging\n",
    "logging.getLogger('dedupe').setLevel(logging.CRITICAL)\n",
    "logging.getLogger('casamento_entidade').setLevel(logging.CRITICAL)\n",
    "\n",
    "for handler in logging.root.handlers[:]:\n",
    "    logging.root.removeHandler(handler)\n",
    "logging.basicConfig(filename=arquivo_logging, level=log_level, filemode='w+')"
   ]
  },
  {
   "cell_type": "code",
   "execution_count": 4,
   "metadata": {
    "ExecuteTime": {
     "end_time": "2020-12-10T22:53:46.225754Z",
     "start_time": "2020-12-10T22:53:46.194799Z"
    },
    "code_folding": []
   },
   "outputs": [],
   "source": [
    "# Arquivos de entrada/saida\n",
    "arquivo_modelo_treino = Path(f'saidas/arquivo_treinamento.json')\n",
    "arquivo_modelo_configuracoes = Path(f'saidas/arquivo_configuracao')\n",
    "\n",
    "arquivo_dados_treino = 'dados_treino/dados_pessoa_treino_amostra.csv'\n",
    "\n",
    "# Configuracoes dedupe\n",
    "casamento_selecionado = 'proba'\n",
    "\n",
    "tipos_casamento = {'exato': 'Exact', 'proba': 'String'}\n",
    "campos_casamento = [\n",
    "    {\n",
    "        'field': 'num_cpf_cnpj',\n",
    "        'type': tipos_casamento[casamento_selecionado],\n",
    "        'has missing': True\n",
    "    },\n",
    "    {\n",
    "        'field': 'nome_pessoa',\n",
    "        'type': tipos_casamento[casamento_selecionado],\n",
    "        'has missing': True\n",
    "    },\n",
    "    {\n",
    "        'field': 'num_titulo_eleitor',\n",
    "        'type': tipos_casamento[casamento_selecionado],\n",
    "        'has missing': True\n",
    "    },\n",
    "    {\n",
    "        'field': 'num_nis_nit',\n",
    "        'type': tipos_casamento[casamento_selecionado],\n",
    "        'has missing': True\n",
    "    },\n",
    "    {\n",
    "        'field': 'num_cliente_cemig',\n",
    "        'type': tipos_casamento[casamento_selecionado],\n",
    "        'has missing': True\n",
    "    },\n",
    "    {\n",
    "        'field': 'nome_pai',\n",
    "        'type': tipos_casamento[casamento_selecionado],\n",
    "        'has missing': True\n",
    "    },\n",
    "    {\n",
    "        'field': 'nome_mae',\n",
    "        'type': tipos_casamento[casamento_selecionado],\n",
    "        'has missing': True\n",
    "    },\n",
    "    {\n",
    "        'field': 'data_nasc',\n",
    "        'type': tipos_casamento[casamento_selecionado],\n",
    "        'has missing': True\n",
    "    }\n",
    "]\n",
    "\n",
    "num_cores = 15\n",
    "forcar_treinamento = False\n",
    "sample_size = 15_000\n",
    "blocked_proportion = 0.9\n",
    "original_length = None"
   ]
  },
  {
   "cell_type": "markdown",
   "metadata": {},
   "source": [
    "# Treinamento"
   ]
  },
  {
   "cell_type": "markdown",
   "metadata": {},
   "source": [
    "Treinamento do Dedupe para **Casamento de Entidades** utilizando dados de treino."
   ]
  },
  {
   "cell_type": "markdown",
   "metadata": {},
   "source": [
    "## Entrada do Algoritmo"
   ]
  },
  {
   "cell_type": "code",
   "execution_count": 5,
   "metadata": {
    "ExecuteTime": {
     "end_time": "2020-12-10T22:53:46.416909Z",
     "start_time": "2020-12-10T22:53:46.226868Z"
    }
   },
   "outputs": [
    {
     "data": {
      "application/vnd.jupyter.widget-view+json": {
       "model_id": "55b288155330411a8938c233c940c587",
       "version_major": 2,
       "version_minor": 0
      },
      "text/plain": [
       "HBox(children=(FloatProgress(value=0.0, max=8.0), HTML(value='')))"
      ]
     },
     "metadata": {},
     "output_type": "display_data"
    },
    {
     "name": "stdout",
     "output_type": "stream",
     "text": [
      "\n"
     ]
    }
   ],
   "source": [
    "# Leitura\n",
    "colunas_treino = ['uuid_pessoa', 'num_cpf_cnpj', 'nome_pessoa', 'data_nasc', \n",
    "                  'nome_mae', 'nome_pai', 'nit', 'nis', 'num_titulo_eleitor', 'num_cliente_cemig']\n",
    "colunas_idx = [0, 2, 3, 4, 5, 6, 7, 8, 9, 10]  # Colunas para ler do csv\n",
    "df_treino = pd.read_csv(arquivo_dados_treino, low_memory=False, sep='#', header=None, usecols=colunas_idx)\n",
    "df_treino.columns = colunas_treino\n",
    "\n",
    "# Coluna Nis/Nit\n",
    "df_treino['num_nis_nit'] = df_treino['nis'].combine_first(df_treino['nit'])\n",
    "df_treino.drop(['nis', 'nit'], inplace=True, axis=1)\n",
    "\n",
    "# Removendo uuid duplicados\n",
    "df_treino.sort_values(by='num_cpf_cnpj', inplace=True, ignore_index=True)\n",
    "df_treino.drop_duplicates(subset=['uuid_pessoa'], keep='first', inplace=True, \n",
    "                          ignore_index=True)\n",
    "\n",
    "# UUID como indice\n",
    "df_treino.set_index('uuid_pessoa', inplace=True)\n",
    "\n",
    "# Conversao para str se probabilistico\n",
    "if casamento_selecionado == 'proba': \n",
    "    for c in tqdm(df_treino.columns):\n",
    "        df_treino = df_treino.astype(str)\n",
    "\n",
    "# Entrada para dedupe\n",
    "df_treino = df_treino.where(pd.notnull(df_treino), None)  # dedupe soh aceita None\n",
    "df_treino.reset_index(drop=True, inplace=True)\n",
    "dados_dedupe_treino = df_treino.to_dict(orient='index')  # dedupe soh aceita dict"
   ]
  },
  {
   "cell_type": "markdown",
   "metadata": {},
   "source": [
    "## Treinamento com Aprendizado Ativo"
   ]
  },
  {
   "cell_type": "code",
   "execution_count": 6,
   "metadata": {
    "ExecuteTime": {
     "end_time": "2020-12-10T23:03:48.788519Z",
     "start_time": "2020-12-10T22:53:46.418460Z"
    },
    "scrolled": true
   },
   "outputs": [
    {
     "name": "stdout",
     "output_type": "stream",
     "text": [
      "Preparando o treinamento do modelo...\n",
      "\tLendo exemplos do arquivo de treinamento (saidas/arquivo_treinamento.json).\n"
     ]
    },
    {
     "name": "stderr",
     "output_type": "stream",
     "text": [
      "num_cpf_cnpj : nan\n",
      "nome_pessoa : JOSE ALMEIDA SOUZA\n",
      "num_titulo_eleitor : nan\n",
      "num_nis_nit : nan\n",
      "num_cliente_cemig : 7000799969.0\n",
      "nome_pai : nan\n",
      "nome_mae : nan\n",
      "data_nasc : nan\n",
      "\n",
      "num_cpf_cnpj : nan\n",
      "nome_pessoa : PAULO DA SILVA COSTA\n",
      "num_titulo_eleitor : nan\n",
      "num_nis_nit : nan\n",
      "num_cliente_cemig : 7000736574.0\n",
      "nome_pai : nan\n",
      "nome_mae : nan\n",
      "data_nasc : nan\n",
      "\n",
      "6/10 positive, 11/10 negative\n",
      "Do these records refer to the same thing?\n",
      "(y)es / (n)o / (u)nsure / (f)inished\n"
     ]
    },
    {
     "name": "stdout",
     "output_type": "stream",
     "text": [
      "Iniciando o treinamento com Active Learning...\n",
      "n\n"
     ]
    },
    {
     "name": "stderr",
     "output_type": "stream",
     "text": [
      "num_cpf_cnpj : ***562681**\n",
      "nome_pessoa : CLAUSTER DA SILVA FERREIRA\n",
      "num_titulo_eleitor : nan\n",
      "num_nis_nit : nan\n",
      "num_cliente_cemig : nan\n",
      "nome_pai : nan\n",
      "nome_mae : nan\n",
      "data_nasc : nan\n",
      "\n",
      "num_cpf_cnpj : ***562687**\n",
      "nome_pessoa : LUIZ ANTONIO MARTINS\n",
      "num_titulo_eleitor : nan\n",
      "num_nis_nit : nan\n",
      "num_cliente_cemig : nan\n",
      "nome_pai : nan\n",
      "nome_mae : nan\n",
      "data_nasc : nan\n",
      "\n",
      "6/10 positive, 12/10 negative\n",
      "Do these records refer to the same thing?\n",
      "(y)es / (n)o / (u)nsure / (f)inished / (p)revious\n"
     ]
    },
    {
     "name": "stdout",
     "output_type": "stream",
     "text": [
      "y\n"
     ]
    },
    {
     "name": "stderr",
     "output_type": "stream",
     "text": [
      "num_cpf_cnpj : ***580695**\n",
      "nome_pessoa : TANIA MARIA PEREIRA CORREIA\n",
      "num_titulo_eleitor : nan\n",
      "num_nis_nit : nan\n",
      "num_cliente_cemig : nan\n",
      "nome_pai : nan\n",
      "nome_mae : nan\n",
      "data_nasc : nan\n",
      "\n",
      "num_cpf_cnpj : ***580698**\n",
      "nome_pessoa : LAIZ MARUCHI BALDASSIM\n",
      "num_titulo_eleitor : nan\n",
      "num_nis_nit : nan\n",
      "num_cliente_cemig : nan\n",
      "nome_pai : nan\n",
      "nome_mae : nan\n",
      "data_nasc : nan\n",
      "\n",
      "7/10 positive, 12/10 negative\n",
      "Do these records refer to the same thing?\n",
      "(y)es / (n)o / (u)nsure / (f)inished / (p)revious\n"
     ]
    },
    {
     "name": "stdout",
     "output_type": "stream",
     "text": [
      "n\n"
     ]
    },
    {
     "name": "stderr",
     "output_type": "stream",
     "text": [
      "num_cpf_cnpj : ***895448**\n",
      "nome_pessoa : MARIA APARECIDA BROGINI\n",
      "num_titulo_eleitor : nan\n",
      "num_nis_nit : nan\n",
      "num_cliente_cemig : nan\n",
      "nome_pai : nan\n",
      "nome_mae : nan\n",
      "data_nasc : nan\n",
      "\n",
      "num_cpf_cnpj : ***965448**\n",
      "nome_pessoa : DULCILEI APARECIDA VERONEZI OTON\n",
      "num_titulo_eleitor : nan\n",
      "num_nis_nit : nan\n",
      "num_cliente_cemig : nan\n",
      "nome_pai : nan\n",
      "nome_mae : nan\n",
      "data_nasc : nan\n",
      "\n",
      "7/10 positive, 13/10 negative\n",
      "Do these records refer to the same thing?\n",
      "(y)es / (n)o / (u)nsure / (f)inished / (p)revious\n"
     ]
    },
    {
     "name": "stdout",
     "output_type": "stream",
     "text": [
      "y\n"
     ]
    },
    {
     "name": "stderr",
     "output_type": "stream",
     "text": [
      "num_cpf_cnpj : ***938628**\n",
      "nome_pessoa : MARCIA CORREA DE TOLEDO\n",
      "num_titulo_eleitor : nan\n",
      "num_nis_nit : nan\n",
      "num_cliente_cemig : nan\n",
      "nome_pai : nan\n",
      "nome_mae : nan\n",
      "data_nasc : nan\n",
      "\n",
      "num_cpf_cnpj : ***938674**\n",
      "nome_pessoa : PATRICIA OLIVEIRA DE ALMEIDA FREIRE\n",
      "num_titulo_eleitor : nan\n",
      "num_nis_nit : nan\n",
      "num_cliente_cemig : nan\n",
      "nome_pai : nan\n",
      "nome_mae : nan\n",
      "data_nasc : nan\n",
      "\n",
      "8/10 positive, 13/10 negative\n",
      "Do these records refer to the same thing?\n",
      "(y)es / (n)o / (u)nsure / (f)inished / (p)revious\n"
     ]
    },
    {
     "name": "stdout",
     "output_type": "stream",
     "text": [
      "f\n"
     ]
    },
    {
     "name": "stderr",
     "output_type": "stream",
     "text": [
      "Finished labeling\n"
     ]
    },
    {
     "name": "stdout",
     "output_type": "stream",
     "text": [
      "Salvando os arquivos de treino e configuração...\n"
     ]
    }
   ],
   "source": [
    "# Configurações Dedupe\n",
    "if (arquivo_modelo_configuracoes.exists()) and (not forcar_treinamento):\n",
    "    print(f'Carregando o modelo a partir do arquivo de configuração {arquivo_modelo_configuracoes}')\n",
    "    with arquivo_modelo_configuracoes.open(mode='rb') as fp:\n",
    "        modelo_ce = dedupe.StaticDedupe(settings_file=fp, num_cores=num_cores)\n",
    "else:\n",
    "    # Instanciação\n",
    "    modelo_ce = dedupe.Dedupe(variable_definition=campos_casamento, num_cores=num_cores)\n",
    "\n",
    "    # Preparando treino\n",
    "    print('Preparando o treinamento do modelo...')\n",
    "    if arquivo_modelo_treino.exists():\n",
    "        print(f'\\tLendo exemplos do arquivo de treinamento ({arquivo_modelo_treino}).')\n",
    "        with arquivo_modelo_treino.open() as fp:\n",
    "            modelo_ce.prepare_training(data=dados_dedupe_treino, training_file=fp,\n",
    "                                       sample_size=sample_size, blocked_proportion=blocked_proportion,\n",
    "                                       original_length=original_length)\n",
    "    else:\n",
    "        modelo_ce.prepare_training(data=dados_dedupe_treino, training_file=None,\n",
    "                                   sample_size=sample_size, blocked_proportion=blocked_proportion,\n",
    "                                   original_length=original_length)\n",
    "\n",
    "    # Active Learning\n",
    "    print('Iniciando o treinamento com Active Learning...')\n",
    "    dedupe.console_label(modelo_ce)\n",
    "    modelo_ce.train()\n",
    "\n",
    "    # Salva configuração e exemplos de treino\n",
    "    print('Salvando os arquivos de treino e configuração...')\n",
    "    with arquivo_modelo_treino.open(mode='w+') as fp:\n",
    "        modelo_ce.write_training(file_obj=fp)\n",
    "\n",
    "    with arquivo_modelo_configuracoes.open(mode='wb+') as fp:\n",
    "        modelo_ce.write_settings(file_obj=fp)\n",
    "\n",
    "    # Liberando memória\n",
    "    modelo_ce.cleanup_training()"
   ]
  }
 ],
 "metadata": {
  "kernelspec": {
   "display_name": "Python 3",
   "language": "python",
   "name": "python3"
  },
  "language_info": {
   "codemirror_mode": {
    "name": "ipython",
    "version": 3
   },
   "file_extension": ".py",
   "mimetype": "text/x-python",
   "name": "python",
   "nbconvert_exporter": "python",
   "pygments_lexer": "ipython3",
   "version": "3.8.2"
  }
 },
 "nbformat": 4,
 "nbformat_minor": 4
}
