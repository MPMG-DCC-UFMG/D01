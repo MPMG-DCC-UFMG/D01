{
 "cells": [
  {
   "cell_type": "code",
   "execution_count": 1,
   "metadata": {
    "ExecuteTime": {
     "end_time": "2020-12-10T22:36:20.934825Z",
     "start_time": "2020-12-10T22:36:19.004351Z"
    },
    "hide_input": false,
    "scrolled": true
   },
   "outputs": [
    {
     "name": "stdout",
     "output_type": "stream",
     "text": [
      "Processing /dados01/workspace/ufmg.m05dcc/scripts/M05/codigos/treinamento\n",
      "\u001b[31mERROR: Could not install packages due to an EnvironmentError: [('/dados01/workspace/ufmg.m05dcc/scripts/M05/codigos/treinamento/dados_treino/dados_pessoa_treino.csv', '/tmp/pip-req-build-0cgl16w5/dados_treino/dados_pessoa_treino.csv', \"[Errno 28] Não há espaço disponível no dispositivo: '/dados01/workspace/ufmg.m05dcc/scripts/M05/codigos/treinamento/dados_treino/dados_pessoa_treino.csv' -> '/tmp/pip-req-build-0cgl16w5/dados_treino/dados_pessoa_treino.csv'\")]\n",
      "\u001b[0m\n",
      "\u001b[33mWARNING: You are using pip version 20.2.4; however, version 20.3.1 is available.\n",
      "You should consider upgrading via the '/dados01/workspace/ufmg.m05dcc/py38/bin/python3.8 -m pip install --upgrade pip' command.\u001b[0m\n"
     ]
    }
   ],
   "source": [
    "!pip install ."
   ]
  },
  {
   "cell_type": "markdown",
   "metadata": {},
   "source": [
    "# Configuração"
   ]
  },
  {
   "cell_type": "code",
   "execution_count": 2,
   "metadata": {
    "ExecuteTime": {
     "end_time": "2020-12-10T22:36:21.438789Z",
     "start_time": "2020-12-10T22:36:20.936500Z"
    }
   },
   "outputs": [],
   "source": [
    "import dedupe\n",
    "import numpy as np\n",
    "import pandas as pd\n",
    "\n",
    "from pathlib import Path\n",
    "from tqdm.auto import tqdm\n",
    "from casamento_entidade.diversos import carregar_json, criar_dir\n",
    "from casamento_entidade.entrada import df_para_dict\n",
    "from casamento_entidade.modelos_ce import ModeloDedupe\n",
    "\n",
    "pd.options.mode.chained_assignment = None"
   ]
  },
  {
   "cell_type": "code",
   "execution_count": 3,
   "metadata": {
    "ExecuteTime": {
     "end_time": "2020-12-10T22:36:21.446392Z",
     "start_time": "2020-12-10T22:36:21.440586Z"
    }
   },
   "outputs": [],
   "source": [
    "# Logs\n",
    "arquivo_logging = 'saidas/execucao.log'\n",
    "log_level = 'INFO'\n",
    "\n",
    "import logging\n",
    "logging.getLogger('dedupe').setLevel(logging.CRITICAL)\n",
    "logging.getLogger('casamento_entidade').setLevel(logging.CRITICAL)\n",
    "\n",
    "for handler in logging.root.handlers[:]:\n",
    "    logging.root.removeHandler(handler)\n",
    "logging.basicConfig(filename=arquivo_logging, level=log_level, filemode='w+')"
   ]
  },
  {
   "cell_type": "code",
   "execution_count": 4,
   "metadata": {
    "ExecuteTime": {
     "end_time": "2020-12-10T22:36:21.466021Z",
     "start_time": "2020-12-10T22:36:21.447678Z"
    },
    "code_folding": []
   },
   "outputs": [],
   "source": [
    "# Arquivos de entrada/saida\n",
    "arquivo_modelo_treino = Path(f'saidas/arquivo_treinamento.json')\n",
    "arquivo_modelo_configuracoes = Path(f'saidas/arquivo_configuracao')\n",
    "\n",
    "arquivo_dados_treino = 'dados_treino/dados_pessoa_treino_amostra.csv'\n",
    "\n",
    "# Configuracoes dedupe\n",
    "casamento_selecionado = 'proba'\n",
    "\n",
    "tipos_casamento = {'exato': 'Exact', 'proba': 'String'}\n",
    "campos_casamento = [\n",
    "    {\n",
    "        'field': 'num_cpf_cnpj',\n",
    "        'type': tipos_casamento[casamento_selecionado],\n",
    "        'has missing': True\n",
    "    },\n",
    "    {\n",
    "        'field': 'nome_pessoa',\n",
    "        'type': tipos_casamento[casamento_selecionado],\n",
    "        'has missing': True\n",
    "    },\n",
    "    {\n",
    "        'field': 'num_titulo_eleitor',\n",
    "        'type': tipos_casamento[casamento_selecionado],\n",
    "        'has missing': True\n",
    "    },\n",
    "    {\n",
    "        'field': 'num_nis_nit',\n",
    "        'type': tipos_casamento[casamento_selecionado],\n",
    "        'has missing': True\n",
    "    },\n",
    "    {\n",
    "        'field': 'num_cliente_cemig',\n",
    "        'type': tipos_casamento[casamento_selecionado],\n",
    "        'has missing': True\n",
    "    },\n",
    "    {\n",
    "        'field': 'nome_pai',\n",
    "        'type': tipos_casamento[casamento_selecionado],\n",
    "        'has missing': True\n",
    "    },\n",
    "    {\n",
    "        'field': 'nome_mae',\n",
    "        'type': tipos_casamento[casamento_selecionado],\n",
    "        'has missing': True\n",
    "    },\n",
    "    {\n",
    "        'field': 'data_nasc',\n",
    "        'type': tipos_casamento[casamento_selecionado],\n",
    "        'has missing': True\n",
    "    }\n",
    "]\n",
    "\n",
    "num_cores = 15\n",
    "forcar_treinamento = False\n",
    "sample_size = 15_000\n",
    "blocked_proportion = 0.9\n",
    "original_length = None"
   ]
  },
  {
   "cell_type": "markdown",
   "metadata": {},
   "source": [
    "# Treinamento"
   ]
  },
  {
   "cell_type": "markdown",
   "metadata": {},
   "source": [
    "Treinamento do Dedupe para **Casamento de Entidades** utilizando dados de treino."
   ]
  },
  {
   "cell_type": "markdown",
   "metadata": {},
   "source": [
    "## Entrada do Algoritmo"
   ]
  },
  {
   "cell_type": "code",
   "execution_count": 5,
   "metadata": {
    "ExecuteTime": {
     "end_time": "2020-12-10T22:36:21.713148Z",
     "start_time": "2020-12-10T22:36:21.467367Z"
    }
   },
   "outputs": [
    {
     "data": {
      "application/vnd.jupyter.widget-view+json": {
       "model_id": "507ab80d42a0452ca052cd3ba5dbc77e",
       "version_major": 2,
       "version_minor": 0
      },
      "text/plain": [
       "HBox(children=(FloatProgress(value=0.0, max=8.0), HTML(value='')))"
      ]
     },
     "metadata": {},
     "output_type": "display_data"
    },
    {
     "name": "stdout",
     "output_type": "stream",
     "text": [
      "\n"
     ]
    }
   ],
   "source": [
    "# Leitura\n",
    "colunas_treino = ['uuid_pessoa', 'num_cpf_cnpj', 'nome_pessoa', 'data_nasc', \n",
    "                  'nome_mae', 'nome_pai', 'nit', 'nis', 'num_titulo_eleitor', 'num_cliente_cemig']\n",
    "colunas_idx = [0, 2, 3, 4, 5, 6, 7, 8, 9, 10]  # Colunas para ler do csv\n",
    "df_treino = pd.read_csv(arquivo_dados_treino, low_memory=False, sep='#', header=None, usecols=colunas_idx)\n",
    "df_treino.columns = colunas_treino\n",
    "\n",
    "# Coluna Nis/Nit\n",
    "df_treino['num_nis_nit'] = df_treino['nis'].combine_first(df_treino['nit'])\n",
    "df_treino.drop(['nis', 'nit'], inplace=True, axis=1)\n",
    "\n",
    "# Removendo uuid duplicados\n",
    "df_treino.sort_values(by='num_cpf_cnpj', inplace=True, ignore_index=True)\n",
    "df_treino.drop_duplicates(subset=['uuid_pessoa'], keep='first', inplace=True, \n",
    "                          ignore_index=True)\n",
    "\n",
    "# UUID como indice\n",
    "df_treino.set_index('uuid_pessoa', inplace=True)\n",
    "\n",
    "# Conversao para str se probabilistico\n",
    "if casamento_selecionado == 'proba': \n",
    "    for c in tqdm(df_treino.columns):\n",
    "        df_treino = df_treino.astype(str)\n",
    "\n",
    "# Entrada para dedupe\n",
    "df_treino = df_treino.where(pd.notnull(df_treino), None)  # dedupe soh aceita None\n",
    "df_treino.reset_index(drop=True, inplace=True)\n",
    "dados_dedupe_treino = df_treino.to_dict(orient='index')  # dedupe soh aceita dict"
   ]
  },
  {
   "cell_type": "markdown",
   "metadata": {},
   "source": [
    "## Treinamento com Aprendizado Ativo"
   ]
  },
  {
   "cell_type": "code",
   "execution_count": 6,
   "metadata": {
    "ExecuteTime": {
     "end_time": "2020-12-10T22:53:07.258715Z",
     "start_time": "2020-12-10T22:36:21.715021Z"
    },
    "scrolled": true
   },
   "outputs": [
    {
     "name": "stdout",
     "output_type": "stream",
     "text": [
      "Preparando o treinamento do modelo...\n"
     ]
    },
    {
     "name": "stderr",
     "output_type": "stream",
     "text": [
      "num_cpf_cnpj : 99999999999999\n",
      "nome_pessoa : LATINVEST MANAGEMENT CO LTD\n",
      "num_titulo_eleitor : nan\n",
      "num_nis_nit : nan\n",
      "num_cliente_cemig : nan\n",
      "nome_pai : nan\n",
      "nome_mae : nan\n",
      "data_nasc : nan\n",
      "\n",
      "num_cpf_cnpj : 99999999999999\n",
      "nome_pessoa : LATINVEST MANAGEMENT CO LTD\n",
      "num_titulo_eleitor : nan\n",
      "num_nis_nit : nan\n",
      "num_cliente_cemig : nan\n",
      "nome_pai : nan\n",
      "nome_mae : nan\n",
      "data_nasc : nan\n",
      "\n",
      "0/10 positive, 0/10 negative\n",
      "Do these records refer to the same thing?\n",
      "(y)es / (n)o / (u)nsure / (f)inished\n"
     ]
    },
    {
     "name": "stdout",
     "output_type": "stream",
     "text": [
      "Iniciando o treinamento com Active Learning...\n",
      "y\n"
     ]
    },
    {
     "name": "stderr",
     "output_type": "stream",
     "text": [
      "num_cpf_cnpj : ***893598**\n",
      "nome_pessoa : CAMILA LUZIA DE OLIVEIRA ADAO\n",
      "num_titulo_eleitor : nan\n",
      "num_nis_nit : nan\n",
      "num_cliente_cemig : nan\n",
      "nome_pai : nan\n",
      "nome_mae : nan\n",
      "data_nasc : nan\n",
      "\n",
      "num_cpf_cnpj : ***893598**\n",
      "nome_pessoa : GABRIELA MARIA DE OLIVEIRA REGA BAPTISTA\n",
      "num_titulo_eleitor : nan\n",
      "num_nis_nit : nan\n",
      "num_cliente_cemig : nan\n",
      "nome_pai : nan\n",
      "nome_mae : nan\n",
      "data_nasc : nan\n",
      "\n",
      "1/10 positive, 0/10 negative\n",
      "Do these records refer to the same thing?\n",
      "(y)es / (n)o / (u)nsure / (f)inished / (p)revious\n"
     ]
    },
    {
     "name": "stdout",
     "output_type": "stream",
     "text": [
      "y\n"
     ]
    },
    {
     "name": "stderr",
     "output_type": "stream",
     "text": [
      "num_cpf_cnpj : ***647590**\n",
      "nome_pessoa : ADRIANA NARDINO\n",
      "num_titulo_eleitor : nan\n",
      "num_nis_nit : nan\n",
      "num_cliente_cemig : nan\n",
      "nome_pai : nan\n",
      "nome_mae : nan\n",
      "data_nasc : nan\n",
      "\n",
      "num_cpf_cnpj : ***647598**\n",
      "nome_pessoa : SANDRA APARECIDA LONARDELLI DAS TABOAS\n",
      "num_titulo_eleitor : nan\n",
      "num_nis_nit : nan\n",
      "num_cliente_cemig : nan\n",
      "nome_pai : nan\n",
      "nome_mae : nan\n",
      "data_nasc : nan\n",
      "\n",
      "2/10 positive, 0/10 negative\n",
      "Do these records refer to the same thing?\n",
      "(y)es / (n)o / (u)nsure / (f)inished / (p)revious\n"
     ]
    },
    {
     "name": "stdout",
     "output_type": "stream",
     "text": [
      "n\n"
     ]
    },
    {
     "name": "stderr",
     "output_type": "stream",
     "text": [
      "num_cpf_cnpj : nan\n",
      "nome_pessoa : IGNORADO\n",
      "num_titulo_eleitor : nan\n",
      "num_nis_nit : nan\n",
      "num_cliente_cemig : nan\n",
      "nome_pai : nan\n",
      "nome_mae : DANIELY ESTEVARENGO DE M NEVES\n",
      "data_nasc : 30/11/0002\n",
      "\n",
      "num_cpf_cnpj : nan\n",
      "nome_pessoa : IGNORADO\n",
      "num_titulo_eleitor : nan\n",
      "num_nis_nit : nan\n",
      "num_cliente_cemig : nan\n",
      "nome_pai : nan\n",
      "nome_mae : nan\n",
      "data_nasc : 30/04/2015\n",
      "\n",
      "2/10 positive, 1/10 negative\n",
      "Do these records refer to the same thing?\n",
      "(y)es / (n)o / (u)nsure / (f)inished / (p)revious\n"
     ]
    },
    {
     "name": "stdout",
     "output_type": "stream",
     "text": [
      "n\n"
     ]
    },
    {
     "name": "stderr",
     "output_type": "stream",
     "text": [
      "num_cpf_cnpj : nan\n",
      "nome_pessoa : NAO INFORMADO\n",
      "num_titulo_eleitor : nan\n",
      "num_nis_nit : nan\n",
      "num_cliente_cemig : nan\n",
      "nome_pai : nan\n",
      "nome_mae : CINTIA SILVA DAS MERCES\n",
      "data_nasc : 14/06/2016\n",
      "\n",
      "num_cpf_cnpj : nan\n",
      "nome_pessoa : NAO INFORMADO\n",
      "num_titulo_eleitor : nan\n",
      "num_nis_nit : nan\n",
      "num_cliente_cemig : nan\n",
      "nome_pai : nan\n",
      "nome_mae : SAMARA EMILIA SILVA NASCIMENTO\n",
      "data_nasc : 10/07/2019\n",
      "\n",
      "2/10 positive, 2/10 negative\n",
      "Do these records refer to the same thing?\n",
      "(y)es / (n)o / (u)nsure / (f)inished / (p)revious\n"
     ]
    },
    {
     "name": "stdout",
     "output_type": "stream",
     "text": [
      "n\n"
     ]
    },
    {
     "name": "stderr",
     "output_type": "stream",
     "text": [
      "num_cpf_cnpj : 10005591000143\n",
      "nome_pessoa : ELEICAO  COMITE FINANCEIRO MUNICIPAL PARA VEREADOR AL PMDB\n",
      "num_titulo_eleitor : nan\n",
      "num_nis_nit : nan\n",
      "num_cliente_cemig : nan\n",
      "nome_pai : nan\n",
      "nome_mae : nan\n",
      "data_nasc : nan\n",
      "\n",
      "num_cpf_cnpj : 10162002000130\n",
      "nome_pessoa : ELEICAO  COMITE FINANCEIRO MUNICIPAL PARA VEREADOR SE PMDB\n",
      "num_titulo_eleitor : nan\n",
      "num_nis_nit : nan\n",
      "num_cliente_cemig : nan\n",
      "nome_pai : nan\n",
      "nome_mae : nan\n",
      "data_nasc : nan\n",
      "\n",
      "2/10 positive, 3/10 negative\n",
      "Do these records refer to the same thing?\n",
      "(y)es / (n)o / (u)nsure / (f)inished / (p)revious\n"
     ]
    },
    {
     "name": "stdout",
     "output_type": "stream",
     "text": [
      "n\n"
     ]
    },
    {
     "name": "stderr",
     "output_type": "stream",
     "text": [
      "num_cpf_cnpj : 04806528641\n",
      "nome_pessoa : JOAO BATISTA DE OLIVEIRA\n",
      "num_titulo_eleitor : nan\n",
      "num_nis_nit : nan\n",
      "num_cliente_cemig : 7008679189.0\n",
      "nome_pai : nan\n",
      "nome_mae : nan\n",
      "data_nasc : nan\n",
      "\n",
      "num_cpf_cnpj : 54339227668\n",
      "nome_pessoa : JOAO BATISTA DE OLIVEIRA\n",
      "num_titulo_eleitor : nan\n",
      "num_nis_nit : nan\n",
      "num_cliente_cemig : 7004092439.0\n",
      "nome_pai : nan\n",
      "nome_mae : nan\n",
      "data_nasc : nan\n",
      "\n",
      "2/10 positive, 4/10 negative\n",
      "Do these records refer to the same thing?\n",
      "(y)es / (n)o / (u)nsure / (f)inished / (p)revious\n"
     ]
    },
    {
     "name": "stdout",
     "output_type": "stream",
     "text": [
      "n\n"
     ]
    },
    {
     "name": "stderr",
     "output_type": "stream",
     "text": [
      "num_cpf_cnpj : ***551528**\n",
      "nome_pessoa : TOSHIO NAKAMOTO\n",
      "num_titulo_eleitor : nan\n",
      "num_nis_nit : nan\n",
      "num_cliente_cemig : nan\n",
      "nome_pai : nan\n",
      "nome_mae : nan\n",
      "data_nasc : nan\n",
      "\n",
      "num_cpf_cnpj : ***551548**\n",
      "nome_pessoa : FLAVIO DONIZETTI PEREIRA\n",
      "num_titulo_eleitor : nan\n",
      "num_nis_nit : nan\n",
      "num_cliente_cemig : nan\n",
      "nome_pai : nan\n",
      "nome_mae : nan\n",
      "data_nasc : nan\n",
      "\n",
      "2/10 positive, 5/10 negative\n",
      "Do these records refer to the same thing?\n",
      "(y)es / (n)o / (u)nsure / (f)inished / (p)revious\n"
     ]
    },
    {
     "name": "stdout",
     "output_type": "stream",
     "text": [
      "n\n"
     ]
    },
    {
     "name": "stderr",
     "output_type": "stream",
     "text": [
      "num_cpf_cnpj : ***768602**\n",
      "nome_pessoa : DOMINGOS CEZAR OLIVEIRA NUNES\n",
      "num_titulo_eleitor : nan\n",
      "num_nis_nit : nan\n",
      "num_cliente_cemig : nan\n",
      "nome_pai : nan\n",
      "nome_mae : nan\n",
      "data_nasc : nan\n",
      "\n",
      "num_cpf_cnpj : ***768608**\n",
      "nome_pessoa : ISAIAS ALMEIDA DE OLIVEIRA\n",
      "num_titulo_eleitor : nan\n",
      "num_nis_nit : nan\n",
      "num_cliente_cemig : nan\n",
      "nome_pai : nan\n",
      "nome_mae : nan\n",
      "data_nasc : nan\n",
      "\n",
      "2/10 positive, 6/10 negative\n",
      "Do these records refer to the same thing?\n",
      "(y)es / (n)o / (u)nsure / (f)inished / (p)revious\n"
     ]
    },
    {
     "name": "stdout",
     "output_type": "stream",
     "text": [
      "n\n"
     ]
    },
    {
     "name": "stderr",
     "output_type": "stream",
     "text": [
      "num_cpf_cnpj : ***938628**\n",
      "nome_pessoa : MARCIA CORREA DE TOLEDO\n",
      "num_titulo_eleitor : nan\n",
      "num_nis_nit : nan\n",
      "num_cliente_cemig : nan\n",
      "nome_pai : nan\n",
      "nome_mae : nan\n",
      "data_nasc : nan\n",
      "\n",
      "num_cpf_cnpj : ***938674**\n",
      "nome_pessoa : PATRICIA OLIVEIRA DE ALMEIDA FREIRE\n",
      "num_titulo_eleitor : nan\n",
      "num_nis_nit : nan\n",
      "num_cliente_cemig : nan\n",
      "nome_pai : nan\n",
      "nome_mae : nan\n",
      "data_nasc : nan\n",
      "\n",
      "2/10 positive, 7/10 negative\n",
      "Do these records refer to the same thing?\n",
      "(y)es / (n)o / (u)nsure / (f)inished / (p)revious\n"
     ]
    },
    {
     "name": "stdout",
     "output_type": "stream",
     "text": [
      "n\n"
     ]
    },
    {
     "name": "stderr",
     "output_type": "stream",
     "text": [
      "num_cpf_cnpj : 10129789000139\n",
      "nome_pessoa : ELEICAO  COMITE FINANCEIRO MUNICIPAL UNICO RN PT\n",
      "num_titulo_eleitor : nan\n",
      "num_nis_nit : nan\n",
      "num_cliente_cemig : nan\n",
      "nome_pai : nan\n",
      "nome_mae : nan\n",
      "data_nasc : nan\n",
      "\n",
      "num_cpf_cnpj : 10162002000130\n",
      "nome_pessoa : ELEICAO  COMITE FINANCEIRO MUNICIPAL PARA VEREADOR SE PMDB\n",
      "num_titulo_eleitor : nan\n",
      "num_nis_nit : nan\n",
      "num_cliente_cemig : nan\n",
      "nome_pai : nan\n",
      "nome_mae : nan\n",
      "data_nasc : nan\n",
      "\n",
      "2/10 positive, 8/10 negative\n",
      "Do these records refer to the same thing?\n",
      "(y)es / (n)o / (u)nsure / (f)inished / (p)revious\n"
     ]
    },
    {
     "name": "stdout",
     "output_type": "stream",
     "text": [
      "n\n"
     ]
    },
    {
     "name": "stderr",
     "output_type": "stream",
     "text": [
      "num_cpf_cnpj : nan\n",
      "nome_pessoa : RICARDO FERREIRA DE SOUSA\n",
      "num_titulo_eleitor : nan\n",
      "num_nis_nit : nan\n",
      "num_cliente_cemig : nan\n",
      "nome_pai : nan\n",
      "nome_mae : MARIA FERREIRA DE SOUSA\n",
      "data_nasc : 20/04/1998\n",
      "\n",
      "num_cpf_cnpj : nan\n",
      "nome_pessoa : RICARDO FERREIRA DE SOUZA\n",
      "num_titulo_eleitor : nan\n",
      "num_nis_nit : nan\n",
      "num_cliente_cemig : nan\n",
      "nome_pai : nan\n",
      "nome_mae : LAZARA FERREIRA DA S DE SOUZA\n",
      "data_nasc : 07/01/1987\n",
      "\n",
      "2/10 positive, 9/10 negative\n",
      "Do these records refer to the same thing?\n",
      "(y)es / (n)o / (u)nsure / (f)inished / (p)revious\n"
     ]
    },
    {
     "name": "stdout",
     "output_type": "stream",
     "text": [
      "n\n"
     ]
    },
    {
     "name": "stderr",
     "output_type": "stream",
     "text": [
      "num_cpf_cnpj : nan\n",
      "nome_pessoa : NAO INFORMADO\n",
      "num_titulo_eleitor : nan\n",
      "num_nis_nit : nan\n",
      "num_cliente_cemig : nan\n",
      "nome_pai : nan\n",
      "nome_mae : ADRIANA JESSICA DA SILVA\n",
      "data_nasc : 07/07/2015\n",
      "\n",
      "num_cpf_cnpj : nan\n",
      "nome_pessoa : NAO INFORMADO\n",
      "num_titulo_eleitor : nan\n",
      "num_nis_nit : nan\n",
      "num_cliente_cemig : nan\n",
      "nome_pai : nan\n",
      "nome_mae : SAMARA EMILIA SILVA NASCIMENTO\n",
      "data_nasc : 10/07/2019\n",
      "\n",
      "2/10 positive, 10/10 negative\n",
      "Do these records refer to the same thing?\n",
      "(y)es / (n)o / (u)nsure / (f)inished / (p)revious\n"
     ]
    },
    {
     "name": "stdout",
     "output_type": "stream",
     "text": [
      "n\n"
     ]
    },
    {
     "name": "stderr",
     "output_type": "stream",
     "text": [
      "num_cpf_cnpj : ***054318**\n",
      "nome_pessoa : LUIZ PERICO\n",
      "num_titulo_eleitor : nan\n",
      "num_nis_nit : nan\n",
      "num_cliente_cemig : nan\n",
      "nome_pai : nan\n",
      "nome_mae : nan\n",
      "data_nasc : nan\n",
      "\n",
      "num_cpf_cnpj : ***054336**\n",
      "nome_pessoa : AMI RIBEIRO DE AMORIM\n",
      "num_titulo_eleitor : nan\n",
      "num_nis_nit : nan\n",
      "num_cliente_cemig : nan\n",
      "nome_pai : nan\n",
      "nome_mae : nan\n",
      "data_nasc : nan\n",
      "\n",
      "2/10 positive, 11/10 negative\n",
      "Do these records refer to the same thing?\n",
      "(y)es / (n)o / (u)nsure / (f)inished / (p)revious\n"
     ]
    },
    {
     "name": "stdout",
     "output_type": "stream",
     "text": [
      "y\n"
     ]
    },
    {
     "name": "stderr",
     "output_type": "stream",
     "text": [
      "num_cpf_cnpj : ***544518**\n",
      "nome_pessoa : GORDON BUTLAND\n",
      "num_titulo_eleitor : nan\n",
      "num_nis_nit : nan\n",
      "num_cliente_cemig : nan\n",
      "nome_pai : nan\n",
      "nome_mae : nan\n",
      "data_nasc : nan\n",
      "\n",
      "num_cpf_cnpj : ***544567**\n",
      "nome_pessoa : MONICA RADLER DE AQUINO SCHAUM\n",
      "num_titulo_eleitor : nan\n",
      "num_nis_nit : nan\n",
      "num_cliente_cemig : nan\n",
      "nome_pai : nan\n",
      "nome_mae : nan\n",
      "data_nasc : nan\n",
      "\n",
      "3/10 positive, 11/10 negative\n",
      "Do these records refer to the same thing?\n",
      "(y)es / (n)o / (u)nsure / (f)inished / (p)revious\n"
     ]
    },
    {
     "name": "stdout",
     "output_type": "stream",
     "text": [
      "y\n"
     ]
    },
    {
     "name": "stderr",
     "output_type": "stream",
     "text": [
      "num_cpf_cnpj : ***963009**\n",
      "nome_pessoa : JEAN SPIAZZI\n",
      "num_titulo_eleitor : nan\n",
      "num_nis_nit : nan\n",
      "num_cliente_cemig : nan\n",
      "nome_pai : nan\n",
      "nome_mae : nan\n",
      "data_nasc : nan\n",
      "\n",
      "num_cpf_cnpj : ***963019**\n",
      "nome_pessoa : RENATO ROSSMARK SCHRAMM\n",
      "num_titulo_eleitor : nan\n",
      "num_nis_nit : nan\n",
      "num_cliente_cemig : nan\n",
      "nome_pai : nan\n",
      "nome_mae : nan\n",
      "data_nasc : nan\n",
      "\n",
      "4/10 positive, 11/10 negative\n",
      "Do these records refer to the same thing?\n",
      "(y)es / (n)o / (u)nsure / (f)inished / (p)revious\n"
     ]
    },
    {
     "name": "stdout",
     "output_type": "stream",
     "text": [
      "y\n"
     ]
    },
    {
     "name": "stderr",
     "output_type": "stream",
     "text": [
      "num_cpf_cnpj : ***145917**\n",
      "nome_pessoa : FRANCISCO BERNARDINO\n",
      "num_titulo_eleitor : nan\n",
      "num_nis_nit : nan\n",
      "num_cliente_cemig : nan\n",
      "nome_pai : nan\n",
      "nome_mae : nan\n",
      "data_nasc : nan\n",
      "\n",
      "num_cpf_cnpj : ***145977**\n",
      "nome_pessoa : ALDENI ROSA FERNANDES\n",
      "num_titulo_eleitor : nan\n",
      "num_nis_nit : nan\n",
      "num_cliente_cemig : nan\n",
      "nome_pai : nan\n",
      "nome_mae : nan\n",
      "data_nasc : nan\n",
      "\n",
      "5/10 positive, 11/10 negative\n",
      "Do these records refer to the same thing?\n",
      "(y)es / (n)o / (u)nsure / (f)inished / (p)revious\n"
     ]
    },
    {
     "name": "stdout",
     "output_type": "stream",
     "text": [
      "y\n"
     ]
    },
    {
     "name": "stderr",
     "output_type": "stream",
     "text": [
      "num_cpf_cnpj : ***893518**\n",
      "nome_pessoa : JESUS JADILSON VIDOTO\n",
      "num_titulo_eleitor : nan\n",
      "num_nis_nit : nan\n",
      "num_cliente_cemig : nan\n",
      "nome_pai : nan\n",
      "nome_mae : nan\n",
      "data_nasc : nan\n",
      "\n",
      "num_cpf_cnpj : ***893598**\n",
      "nome_pessoa : CAMILA LUZIA DE OLIVEIRA ADAO\n",
      "num_titulo_eleitor : nan\n",
      "num_nis_nit : nan\n",
      "num_cliente_cemig : nan\n",
      "nome_pai : nan\n",
      "nome_mae : nan\n",
      "data_nasc : nan\n",
      "\n",
      "6/10 positive, 11/10 negative\n",
      "Do these records refer to the same thing?\n",
      "(y)es / (n)o / (u)nsure / (f)inished / (p)revious\n"
     ]
    },
    {
     "name": "stdout",
     "output_type": "stream",
     "text": [
      "f\n"
     ]
    },
    {
     "name": "stderr",
     "output_type": "stream",
     "text": [
      "Finished labeling\n"
     ]
    },
    {
     "name": "stdout",
     "output_type": "stream",
     "text": [
      "Salvando os arquivos de treino e configuração...\n"
     ]
    },
    {
     "ename": "NameError",
     "evalue": "name 'arquivo_config' is not defined",
     "output_type": "error",
     "traceback": [
      "\u001b[0;31m---------------------------------------------------------------------------\u001b[0m",
      "\u001b[0;31mNameError\u001b[0m                                 Traceback (most recent call last)",
      "\u001b[0;32m<ipython-input-6-7d3793d9f1f4>\u001b[0m in \u001b[0;36m<module>\u001b[0;34m\u001b[0m\n\u001b[1;32m     31\u001b[0m         \u001b[0mmodelo_ce\u001b[0m\u001b[0;34m.\u001b[0m\u001b[0mwrite_training\u001b[0m\u001b[0;34m(\u001b[0m\u001b[0mfile_obj\u001b[0m\u001b[0;34m=\u001b[0m\u001b[0mfp\u001b[0m\u001b[0;34m)\u001b[0m\u001b[0;34m\u001b[0m\u001b[0;34m\u001b[0m\u001b[0m\n\u001b[1;32m     32\u001b[0m \u001b[0;34m\u001b[0m\u001b[0m\n\u001b[0;32m---> 33\u001b[0;31m     \u001b[0;32mwith\u001b[0m \u001b[0marquivo_config\u001b[0m\u001b[0;34m.\u001b[0m\u001b[0mopen\u001b[0m\u001b[0;34m(\u001b[0m\u001b[0mmode\u001b[0m\u001b[0;34m=\u001b[0m\u001b[0;34m'wb+'\u001b[0m\u001b[0;34m)\u001b[0m \u001b[0;32mas\u001b[0m \u001b[0mfp\u001b[0m\u001b[0;34m:\u001b[0m\u001b[0;34m\u001b[0m\u001b[0;34m\u001b[0m\u001b[0m\n\u001b[0m\u001b[1;32m     34\u001b[0m         \u001b[0mmodelo_ce\u001b[0m\u001b[0;34m.\u001b[0m\u001b[0mwrite_settings\u001b[0m\u001b[0;34m(\u001b[0m\u001b[0mfile_obj\u001b[0m\u001b[0;34m=\u001b[0m\u001b[0mfp\u001b[0m\u001b[0;34m)\u001b[0m\u001b[0;34m\u001b[0m\u001b[0;34m\u001b[0m\u001b[0m\n\u001b[1;32m     35\u001b[0m \u001b[0;34m\u001b[0m\u001b[0m\n",
      "\u001b[0;31mNameError\u001b[0m: name 'arquivo_config' is not defined"
     ]
    }
   ],
   "source": [
    "# Configurações Dedupe\n",
    "if (arquivo_modelo_configuracoes.exists()) and (not forcar_treinamento):\n",
    "    print(f'Carregando o modelo a partir do arquivo de configuração {arquivo_modelo_configuracoes}')\n",
    "    with arquivo_modelo_configuracoes.open(mode='rb') as fp:\n",
    "        modelo_ce = dedupe.StaticDedupe(settings_file=fp, num_cores=num_cores)\n",
    "else:\n",
    "    # Instanciação\n",
    "    modelo_ce = dedupe.Dedupe(variable_definition=campos_casamento, num_cores=num_cores)\n",
    "\n",
    "    # Preparando treino\n",
    "    print('Preparando o treinamento do modelo...')\n",
    "    if arquivo_modelo_treino.exists():\n",
    "        print(f'\\tLendo exemplos do arquivo de treinamento ({arquivo_modelo_treino}).')\n",
    "        with arquivo_modelo_treino.open() as fp:\n",
    "            modelo_ce.prepare_training(data=dados_dedupe_treino, training_file=fp,\n",
    "                                       sample_size=sample_size, blocked_proportion=blocked_proportion,\n",
    "                                       original_length=original_length)\n",
    "    else:\n",
    "        modelo_ce.prepare_training(data=dados_dedupe_treino, training_file=None,\n",
    "                                   sample_size=sample_size, blocked_proportion=blocked_proportion,\n",
    "                                   original_length=original_length)\n",
    "\n",
    "    # Active Learning\n",
    "    print('Iniciando o treinamento com Active Learning...')\n",
    "    dedupe.console_label(modelo_ce)\n",
    "    modelo_ce.train()\n",
    "\n",
    "    # Salva configuração e exemplos de treino\n",
    "    print('Salvando os arquivos de treino e configuração...')\n",
    "    with arquivo_modelo_treino.open(mode='w+') as fp:\n",
    "        modelo_ce.write_training(file_obj=fp)\n",
    "\n",
    "    with arquivo_modelo_configuracoes.open(mode='wb+') as fp:\n",
    "        modelo_ce.write_settings(file_obj=fp)\n",
    "\n",
    "    # Liberando memória\n",
    "    modelo_ce.cleanup_training()"
   ]
  }
 ],
 "metadata": {
  "kernelspec": {
   "display_name": "Python 3",
   "language": "python",
   "name": "python3"
  },
  "language_info": {
   "codemirror_mode": {
    "name": "ipython",
    "version": 3
   },
   "file_extension": ".py",
   "mimetype": "text/x-python",
   "name": "python",
   "nbconvert_exporter": "python",
   "pygments_lexer": "ipython3",
   "version": "3.8.2"
  }
 },
 "nbformat": 4,
 "nbformat_minor": 4
}
